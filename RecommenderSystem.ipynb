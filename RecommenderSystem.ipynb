{
 "cells": [
  {
   "cell_type": "markdown",
   "metadata": {},
   "source": [
    "### Recommender System:\n",
    "The approach is the item-based K-nearest neighbor (KNN) algorithm. Its philosophy is as follows: \n",
    "in order to determine the rating of User on Products, we can find other products that are similar to product rating, and based on User ratings on those similar product we infer his rating on Product. KNN finds the nearest K neighbors of each Product under the defined similarity function, and use the weighted means to predict the rating. "
   ]
  },
  {
   "cell_type": "code",
   "execution_count": 96,
   "metadata": {},
   "outputs": [],
   "source": [
    "#importing the required Libraries\n",
    "%matplotlib inline\n",
    "import numpy as np\n",
    "import pandas as pd\n",
    "import matplotlib.pyplot as plt\n",
    "from pandas import DataFrame \n",
    "import nltk\n",
    "\n",
    "from sklearn.neighbors import NearestNeighbors\n",
    "from sklearn.linear_model import LogisticRegression\n",
    "from sklearn import neighbors\n",
    "from scipy.spatial.distance import cosine\n",
    "from sklearn.metrics import classification_report\n",
    "from sklearn.metrics import accuracy_score\n",
    "from sklearn.feature_selection import SelectKBest\n",
    "from sklearn.feature_extraction.text import CountVectorizer, TfidfTransformer\n",
    "\n",
    "import re\n",
    "import string\n",
    "from wordcloud import WordCloud, STOPWORDS\n",
    "from sklearn.metrics import mean_squared_error"
   ]
  },
  {
   "cell_type": "code",
   "execution_count": 97,
   "metadata": {},
   "outputs": [],
   "source": [
    "#Reading the dataset\n",
    "reviews= pd.read_json('Beauty_5.json',lines=True)"
   ]
  },
  {
   "cell_type": "code",
   "execution_count": 98,
   "metadata": {},
   "outputs": [
    {
     "data": {
      "text/html": [
       "<div>\n",
       "<style scoped>\n",
       "    .dataframe tbody tr th:only-of-type {\n",
       "        vertical-align: middle;\n",
       "    }\n",
       "\n",
       "    .dataframe tbody tr th {\n",
       "        vertical-align: top;\n",
       "    }\n",
       "\n",
       "    .dataframe thead th {\n",
       "        text-align: right;\n",
       "    }\n",
       "</style>\n",
       "<table border=\"1\" class=\"dataframe\">\n",
       "  <thead>\n",
       "    <tr style=\"text-align: right;\">\n",
       "      <th></th>\n",
       "      <th>asin</th>\n",
       "      <th>helpful_x</th>\n",
       "      <th>overall_x</th>\n",
       "      <th>reviewText_x</th>\n",
       "      <th>reviewTime_x</th>\n",
       "      <th>reviewerID_x</th>\n",
       "      <th>reviewerName_x</th>\n",
       "      <th>summary_x</th>\n",
       "      <th>unixReviewTime_x</th>\n",
       "      <th>helpful_y</th>\n",
       "      <th>overall_y</th>\n",
       "      <th>reviewText_y</th>\n",
       "      <th>reviewTime_y</th>\n",
       "      <th>reviewerID_y</th>\n",
       "      <th>reviewerName_y</th>\n",
       "      <th>summary_y</th>\n",
       "      <th>unixReviewTime_y</th>\n",
       "    </tr>\n",
       "  </thead>\n",
       "  <tbody>\n",
       "    <tr>\n",
       "      <th>0</th>\n",
       "      <td>7806397051</td>\n",
       "      <td>[3, 4]</td>\n",
       "      <td>1</td>\n",
       "      <td>Very oily and creamy. Not at all what I expect...</td>\n",
       "      <td>01 30, 2014</td>\n",
       "      <td>A1YJEY40YUW4SE</td>\n",
       "      <td>Andrea</td>\n",
       "      <td>Don't waste your money</td>\n",
       "      <td>1391040000</td>\n",
       "      <td>8</td>\n",
       "      <td>8</td>\n",
       "      <td>8</td>\n",
       "      <td>8</td>\n",
       "      <td>8</td>\n",
       "      <td>8</td>\n",
       "      <td>8</td>\n",
       "      <td>8</td>\n",
       "    </tr>\n",
       "    <tr>\n",
       "      <th>1</th>\n",
       "      <td>7806397051</td>\n",
       "      <td>[1, 1]</td>\n",
       "      <td>3</td>\n",
       "      <td>This palette was a decent price and I was look...</td>\n",
       "      <td>04 18, 2014</td>\n",
       "      <td>A60XNB876KYML</td>\n",
       "      <td>Jessica H.</td>\n",
       "      <td>OK Palette!</td>\n",
       "      <td>1397779200</td>\n",
       "      <td>8</td>\n",
       "      <td>8</td>\n",
       "      <td>8</td>\n",
       "      <td>8</td>\n",
       "      <td>8</td>\n",
       "      <td>8</td>\n",
       "      <td>8</td>\n",
       "      <td>8</td>\n",
       "    </tr>\n",
       "    <tr>\n",
       "      <th>2</th>\n",
       "      <td>7806397051</td>\n",
       "      <td>[0, 1]</td>\n",
       "      <td>4</td>\n",
       "      <td>The texture of this concealer pallet is fantas...</td>\n",
       "      <td>09 6, 2013</td>\n",
       "      <td>A3G6XNM240RMWA</td>\n",
       "      <td>Karen</td>\n",
       "      <td>great quality</td>\n",
       "      <td>1378425600</td>\n",
       "      <td>8</td>\n",
       "      <td>8</td>\n",
       "      <td>8</td>\n",
       "      <td>8</td>\n",
       "      <td>8</td>\n",
       "      <td>8</td>\n",
       "      <td>8</td>\n",
       "      <td>8</td>\n",
       "    </tr>\n",
       "    <tr>\n",
       "      <th>3</th>\n",
       "      <td>7806397051</td>\n",
       "      <td>[2, 2]</td>\n",
       "      <td>2</td>\n",
       "      <td>I really can't tell what exactly this thing is...</td>\n",
       "      <td>12 8, 2013</td>\n",
       "      <td>A1PQFP6SAJ6D80</td>\n",
       "      <td>Norah</td>\n",
       "      <td>Do not work on my face</td>\n",
       "      <td>1386460800</td>\n",
       "      <td>8</td>\n",
       "      <td>8</td>\n",
       "      <td>8</td>\n",
       "      <td>8</td>\n",
       "      <td>8</td>\n",
       "      <td>8</td>\n",
       "      <td>8</td>\n",
       "      <td>8</td>\n",
       "    </tr>\n",
       "    <tr>\n",
       "      <th>4</th>\n",
       "      <td>7806397051</td>\n",
       "      <td>[0, 0]</td>\n",
       "      <td>3</td>\n",
       "      <td>It was a little smaller than I expected, but t...</td>\n",
       "      <td>10 19, 2013</td>\n",
       "      <td>A38FVHZTNQ271F</td>\n",
       "      <td>Nova Amor</td>\n",
       "      <td>It's okay.</td>\n",
       "      <td>1382140800</td>\n",
       "      <td>8</td>\n",
       "      <td>8</td>\n",
       "      <td>8</td>\n",
       "      <td>8</td>\n",
       "      <td>8</td>\n",
       "      <td>8</td>\n",
       "      <td>8</td>\n",
       "      <td>8</td>\n",
       "    </tr>\n",
       "  </tbody>\n",
       "</table>\n",
       "</div>"
      ],
      "text/plain": [
       "         asin helpful_x  overall_x  \\\n",
       "0  7806397051    [3, 4]          1   \n",
       "1  7806397051    [1, 1]          3   \n",
       "2  7806397051    [0, 1]          4   \n",
       "3  7806397051    [2, 2]          2   \n",
       "4  7806397051    [0, 0]          3   \n",
       "\n",
       "                                        reviewText_x reviewTime_x  \\\n",
       "0  Very oily and creamy. Not at all what I expect...  01 30, 2014   \n",
       "1  This palette was a decent price and I was look...  04 18, 2014   \n",
       "2  The texture of this concealer pallet is fantas...   09 6, 2013   \n",
       "3  I really can't tell what exactly this thing is...   12 8, 2013   \n",
       "4  It was a little smaller than I expected, but t...  10 19, 2013   \n",
       "\n",
       "     reviewerID_x reviewerName_x               summary_x  unixReviewTime_x  \\\n",
       "0  A1YJEY40YUW4SE         Andrea  Don't waste your money        1391040000   \n",
       "1   A60XNB876KYML     Jessica H.             OK Palette!        1397779200   \n",
       "2  A3G6XNM240RMWA          Karen           great quality        1378425600   \n",
       "3  A1PQFP6SAJ6D80          Norah  Do not work on my face        1386460800   \n",
       "4  A38FVHZTNQ271F      Nova Amor              It's okay.        1382140800   \n",
       "\n",
       "   helpful_y  overall_y  reviewText_y  reviewTime_y  reviewerID_y  \\\n",
       "0          8          8             8             8             8   \n",
       "1          8          8             8             8             8   \n",
       "2          8          8             8             8             8   \n",
       "3          8          8             8             8             8   \n",
       "4          8          8             8             8             8   \n",
       "\n",
       "   reviewerName_y  summary_y  unixReviewTime_y  \n",
       "0               8          8                 8  \n",
       "1               8          8                 8  \n",
       "2               8          8                 8  \n",
       "3               8          8                 8  \n",
       "4               8          8                 8  "
      ]
     },
     "execution_count": 98,
     "metadata": {},
     "output_type": "execute_result"
    }
   ],
   "source": [
    "#getting the count of Product ID\n",
    "count = reviews.groupby(\"asin\", as_index=False).count()\n",
    "mean = reviews.groupby(\"asin\", as_index=False).mean()\n",
    "#Merging them into Dataset\n",
    "reviewsMerged = pd.merge(reviews, count, how='right', on=['asin'])\n",
    "reviewsMerged.head(5)"
   ]
  },
  {
   "cell_type": "code",
   "execution_count": 99,
   "metadata": {},
   "outputs": [],
   "source": [
    "#rename column\n",
    "reviewsMerged[\"totalReviewers\"] = reviewsMerged[\"reviewerID_y\"]\n",
    "reviewsMerged[\"overallScore\"] = reviewsMerged[\"overall_x\"]\n",
    "reviewsMerged[\"summaryReview\"] = reviewsMerged[\"summary_x\"]\n"
   ]
  },
  {
   "cell_type": "markdown",
   "metadata": {},
   "source": [
    "**Selecting products which have more than 50 reviews**"
   ]
  },
  {
   "cell_type": "code",
   "execution_count": 100,
   "metadata": {},
   "outputs": [
    {
     "data": {
      "text/html": [
       "<div>\n",
       "<style scoped>\n",
       "    .dataframe tbody tr th:only-of-type {\n",
       "        vertical-align: middle;\n",
       "    }\n",
       "\n",
       "    .dataframe tbody tr th {\n",
       "        vertical-align: top;\n",
       "    }\n",
       "\n",
       "    .dataframe thead th {\n",
       "        text-align: right;\n",
       "    }\n",
       "</style>\n",
       "<table border=\"1\" class=\"dataframe\">\n",
       "  <thead>\n",
       "    <tr style=\"text-align: right;\">\n",
       "      <th></th>\n",
       "      <th>asin</th>\n",
       "      <th>helpful_x</th>\n",
       "      <th>overall_x</th>\n",
       "      <th>reviewText_x</th>\n",
       "      <th>reviewTime_x</th>\n",
       "      <th>reviewerID_x</th>\n",
       "      <th>reviewerName_x</th>\n",
       "      <th>summary_x</th>\n",
       "      <th>unixReviewTime_x</th>\n",
       "      <th>helpful_y</th>\n",
       "      <th>overall_y</th>\n",
       "      <th>reviewText_y</th>\n",
       "      <th>reviewTime_y</th>\n",
       "      <th>reviewerID_y</th>\n",
       "      <th>reviewerName_y</th>\n",
       "      <th>summary_y</th>\n",
       "      <th>unixReviewTime_y</th>\n",
       "      <th>totalReviewers</th>\n",
       "      <th>overallScore</th>\n",
       "      <th>summaryReview</th>\n",
       "    </tr>\n",
       "  </thead>\n",
       "  <tbody>\n",
       "    <tr>\n",
       "      <th>112506</th>\n",
       "      <td>B004OHQR1Q</td>\n",
       "      <td>[7, 9]</td>\n",
       "      <td>1</td>\n",
       "      <td>first off.... i ordered these expecting there ...</td>\n",
       "      <td>10 24, 2013</td>\n",
       "      <td>A3BP5ZF51CHZOE</td>\n",
       "      <td>Caitlyn Johnson</td>\n",
       "      <td>crap!</td>\n",
       "      <td>1382572800</td>\n",
       "      <td>431</td>\n",
       "      <td>431</td>\n",
       "      <td>431</td>\n",
       "      <td>431</td>\n",
       "      <td>431</td>\n",
       "      <td>431</td>\n",
       "      <td>431</td>\n",
       "      <td>431</td>\n",
       "      <td>431</td>\n",
       "      <td>1</td>\n",
       "      <td>crap!</td>\n",
       "    </tr>\n",
       "    <tr>\n",
       "      <th>112578</th>\n",
       "      <td>B004OHQR1Q</td>\n",
       "      <td>[0, 0]</td>\n",
       "      <td>5</td>\n",
       "      <td>I use this all the time helps out with my desi...</td>\n",
       "      <td>06 25, 2013</td>\n",
       "      <td>A3796JLADKK5Z7</td>\n",
       "      <td>Freckvanilla</td>\n",
       "      <td>YOU NEED THIS!!</td>\n",
       "      <td>1372118400</td>\n",
       "      <td>431</td>\n",
       "      <td>431</td>\n",
       "      <td>431</td>\n",
       "      <td>431</td>\n",
       "      <td>431</td>\n",
       "      <td>431</td>\n",
       "      <td>431</td>\n",
       "      <td>431</td>\n",
       "      <td>431</td>\n",
       "      <td>5</td>\n",
       "      <td>YOU NEED THIS!!</td>\n",
       "    </tr>\n",
       "    <tr>\n",
       "      <th>112580</th>\n",
       "      <td>B004OHQR1Q</td>\n",
       "      <td>[0, 0]</td>\n",
       "      <td>5</td>\n",
       "      <td>Love the array of colors and the different siz...</td>\n",
       "      <td>05 6, 2013</td>\n",
       "      <td>A22NETHJ4KTWJP</td>\n",
       "      <td>gadgetGirl</td>\n",
       "      <td>Great product at a very affordable price</td>\n",
       "      <td>1367798400</td>\n",
       "      <td>431</td>\n",
       "      <td>431</td>\n",
       "      <td>431</td>\n",
       "      <td>431</td>\n",
       "      <td>431</td>\n",
       "      <td>431</td>\n",
       "      <td>431</td>\n",
       "      <td>431</td>\n",
       "      <td>431</td>\n",
       "      <td>5</td>\n",
       "      <td>Great product at a very affordable price</td>\n",
       "    </tr>\n",
       "    <tr>\n",
       "      <th>112581</th>\n",
       "      <td>B004OHQR1Q</td>\n",
       "      <td>[0, 0]</td>\n",
       "      <td>5</td>\n",
       "      <td>I would recommend these dotting tools to anyon...</td>\n",
       "      <td>04 22, 2014</td>\n",
       "      <td>A1L9ZTGO75717E</td>\n",
       "      <td>gatorsgate</td>\n",
       "      <td>Dotting 5 X 2 Way Marbleizing Dotting Pen Set</td>\n",
       "      <td>1398124800</td>\n",
       "      <td>431</td>\n",
       "      <td>431</td>\n",
       "      <td>431</td>\n",
       "      <td>431</td>\n",
       "      <td>431</td>\n",
       "      <td>431</td>\n",
       "      <td>431</td>\n",
       "      <td>431</td>\n",
       "      <td>431</td>\n",
       "      <td>5</td>\n",
       "      <td>Dotting 5 X 2 Way Marbleizing Dotting Pen Set</td>\n",
       "    </tr>\n",
       "    <tr>\n",
       "      <th>112582</th>\n",
       "      <td>B004OHQR1Q</td>\n",
       "      <td>[0, 0]</td>\n",
       "      <td>5</td>\n",
       "      <td>These are easy to use. Gets the job done and c...</td>\n",
       "      <td>08 7, 2013</td>\n",
       "      <td>A3DDZQYUAE9WNP</td>\n",
       "      <td>gee</td>\n",
       "      <td>Love the look.</td>\n",
       "      <td>1375833600</td>\n",
       "      <td>431</td>\n",
       "      <td>431</td>\n",
       "      <td>431</td>\n",
       "      <td>431</td>\n",
       "      <td>431</td>\n",
       "      <td>431</td>\n",
       "      <td>431</td>\n",
       "      <td>431</td>\n",
       "      <td>431</td>\n",
       "      <td>5</td>\n",
       "      <td>Love the look.</td>\n",
       "    </tr>\n",
       "  </tbody>\n",
       "</table>\n",
       "</div>"
      ],
      "text/plain": [
       "              asin helpful_x  overall_x  \\\n",
       "112506  B004OHQR1Q    [7, 9]          1   \n",
       "112578  B004OHQR1Q    [0, 0]          5   \n",
       "112580  B004OHQR1Q    [0, 0]          5   \n",
       "112581  B004OHQR1Q    [0, 0]          5   \n",
       "112582  B004OHQR1Q    [0, 0]          5   \n",
       "\n",
       "                                             reviewText_x reviewTime_x  \\\n",
       "112506  first off.... i ordered these expecting there ...  10 24, 2013   \n",
       "112578  I use this all the time helps out with my desi...  06 25, 2013   \n",
       "112580  Love the array of colors and the different siz...   05 6, 2013   \n",
       "112581  I would recommend these dotting tools to anyon...  04 22, 2014   \n",
       "112582  These are easy to use. Gets the job done and c...   08 7, 2013   \n",
       "\n",
       "          reviewerID_x   reviewerName_x  \\\n",
       "112506  A3BP5ZF51CHZOE  Caitlyn Johnson   \n",
       "112578  A3796JLADKK5Z7     Freckvanilla   \n",
       "112580  A22NETHJ4KTWJP       gadgetGirl   \n",
       "112581  A1L9ZTGO75717E       gatorsgate   \n",
       "112582  A3DDZQYUAE9WNP              gee   \n",
       "\n",
       "                                            summary_x  unixReviewTime_x  \\\n",
       "112506                                          crap!        1382572800   \n",
       "112578                                YOU NEED THIS!!        1372118400   \n",
       "112580       Great product at a very affordable price        1367798400   \n",
       "112581  Dotting 5 X 2 Way Marbleizing Dotting Pen Set        1398124800   \n",
       "112582                                 Love the look.        1375833600   \n",
       "\n",
       "        helpful_y  overall_y  reviewText_y  reviewTime_y  reviewerID_y  \\\n",
       "112506        431        431           431           431           431   \n",
       "112578        431        431           431           431           431   \n",
       "112580        431        431           431           431           431   \n",
       "112581        431        431           431           431           431   \n",
       "112582        431        431           431           431           431   \n",
       "\n",
       "        reviewerName_y  summary_y  unixReviewTime_y  totalReviewers  \\\n",
       "112506             431        431               431             431   \n",
       "112578             431        431               431             431   \n",
       "112580             431        431               431             431   \n",
       "112581             431        431               431             431   \n",
       "112582             431        431               431             431   \n",
       "\n",
       "        overallScore                                  summaryReview  \n",
       "112506             1                                          crap!  \n",
       "112578             5                                YOU NEED THIS!!  \n",
       "112580             5       Great product at a very affordable price  \n",
       "112581             5  Dotting 5 X 2 Way Marbleizing Dotting Pen Set  \n",
       "112582             5                                 Love the look.  "
      ]
     },
     "execution_count": 100,
     "metadata": {},
     "output_type": "execute_result"
    }
   ],
   "source": [
    "#Sorting them by No of reviews and getting the products that has more than or equal to 100 reviews\n",
    "reviewsMerged = reviewsMerged.sort_values(by='totalReviewers', ascending=False)\n",
    "reviewsCount = reviewsMerged[reviewsMerged.totalReviewers >= 100]\n",
    "reviewsCount.head(5)"
   ]
  },
  {
   "cell_type": "markdown",
   "metadata": {},
   "source": [
    "### Grouping all the summary Reviews by product ID\n",
    "We need to group the summary and review summary to get the product by revivew count. We will group by it and store it into the csv. \n"
   ]
  },
  {
   "cell_type": "code",
   "execution_count": 108,
   "metadata": {},
   "outputs": [],
   "source": [
    "#Groupping them By summary Review\n",
    "dfProductReview = reviews.groupby(\"asin\", as_index=False).mean()\n",
    "ProductReviewSummary = reviewsCount.groupby(\"asin\")[\"summaryReview\"].apply(list)\n",
    "ProductReviewSummary = pd.DataFrame(ProductReviewSummary)\n",
    "ProductReviewSummary.to_csv(\"ProductReviewSummary.csv\")"
   ]
  },
  {
   "cell_type": "code",
   "execution_count": 109,
   "metadata": {},
   "outputs": [
    {
     "data": {
      "text/html": [
       "<div>\n",
       "<style scoped>\n",
       "    .dataframe tbody tr th:only-of-type {\n",
       "        vertical-align: middle;\n",
       "    }\n",
       "\n",
       "    .dataframe tbody tr th {\n",
       "        vertical-align: top;\n",
       "    }\n",
       "\n",
       "    .dataframe thead th {\n",
       "        text-align: right;\n",
       "    }\n",
       "</style>\n",
       "<table border=\"1\" class=\"dataframe\">\n",
       "  <thead>\n",
       "    <tr style=\"text-align: right;\">\n",
       "      <th></th>\n",
       "      <th>asin</th>\n",
       "      <th>overall</th>\n",
       "      <th>unixReviewTime</th>\n",
       "    </tr>\n",
       "  </thead>\n",
       "  <tbody>\n",
       "    <tr>\n",
       "      <th>0</th>\n",
       "      <td>7806397051</td>\n",
       "      <td>2.625000</td>\n",
       "      <td>1.382087e+09</td>\n",
       "    </tr>\n",
       "    <tr>\n",
       "      <th>1</th>\n",
       "      <td>9759091062</td>\n",
       "      <td>3.090909</td>\n",
       "      <td>1.390930e+09</td>\n",
       "    </tr>\n",
       "    <tr>\n",
       "      <th>2</th>\n",
       "      <td>9788072216</td>\n",
       "      <td>5.000000</td>\n",
       "      <td>1.342552e+09</td>\n",
       "    </tr>\n",
       "    <tr>\n",
       "      <th>3</th>\n",
       "      <td>9790790961</td>\n",
       "      <td>4.333333</td>\n",
       "      <td>1.378858e+09</td>\n",
       "    </tr>\n",
       "    <tr>\n",
       "      <th>4</th>\n",
       "      <td>9790794231</td>\n",
       "      <td>3.600000</td>\n",
       "      <td>1.298212e+09</td>\n",
       "    </tr>\n",
       "  </tbody>\n",
       "</table>\n",
       "</div>"
      ],
      "text/plain": [
       "         asin   overall  unixReviewTime\n",
       "0  7806397051  2.625000    1.382087e+09\n",
       "1  9759091062  3.090909    1.390930e+09\n",
       "2  9788072216  5.000000    1.342552e+09\n",
       "3  9790790961  4.333333    1.378858e+09\n",
       "4  9790794231  3.600000    1.298212e+09"
      ]
     },
     "execution_count": 109,
     "metadata": {},
     "output_type": "execute_result"
    }
   ],
   "source": [
    "dfProductReview.head(5)"
   ]
  },
  {
   "cell_type": "markdown",
   "metadata": {},
   "source": [
    "### create dataframe with certain columns"
   ]
  },
  {
   "cell_type": "code",
   "execution_count": 110,
   "metadata": {},
   "outputs": [
    {
     "data": {
      "text/html": [
       "<div>\n",
       "<style scoped>\n",
       "    .dataframe tbody tr th:only-of-type {\n",
       "        vertical-align: middle;\n",
       "    }\n",
       "\n",
       "    .dataframe tbody tr th {\n",
       "        vertical-align: top;\n",
       "    }\n",
       "\n",
       "    .dataframe thead th {\n",
       "        text-align: right;\n",
       "    }\n",
       "</style>\n",
       "<table border=\"1\" class=\"dataframe\">\n",
       "  <thead>\n",
       "    <tr style=\"text-align: right;\">\n",
       "      <th></th>\n",
       "      <th>asin</th>\n",
       "      <th>summaryReview</th>\n",
       "      <th>overall</th>\n",
       "    </tr>\n",
       "  </thead>\n",
       "  <tbody>\n",
       "    <tr>\n",
       "      <th>0</th>\n",
       "      <td>B0000530ED</td>\n",
       "      <td>['Great Color', 'This Is *Deep-Burgundy-Plum* ...</td>\n",
       "      <td>4.009709</td>\n",
       "    </tr>\n",
       "    <tr>\n",
       "      <th>1</th>\n",
       "      <td>B0000632EN</td>\n",
       "      <td>['Nice small size', 'This product is really ni...</td>\n",
       "      <td>3.802721</td>\n",
       "    </tr>\n",
       "    <tr>\n",
       "      <th>2</th>\n",
       "      <td>B0000CC64W</td>\n",
       "      <td>['Love it', 'Light', 'A skin must-have', 'Noti...</td>\n",
       "      <td>4.314685</td>\n",
       "    </tr>\n",
       "    <tr>\n",
       "      <th>3</th>\n",
       "      <td>B000142C1A</td>\n",
       "      <td>['Beautiful!', 'Pretty - more orange in person...</td>\n",
       "      <td>4.482456</td>\n",
       "    </tr>\n",
       "    <tr>\n",
       "      <th>4</th>\n",
       "      <td>B000142FVW</td>\n",
       "      <td>['my perfect \"Every-day\" soft neutral', \"Looks...</td>\n",
       "      <td>4.552980</td>\n",
       "    </tr>\n",
       "  </tbody>\n",
       "</table>\n",
       "</div>"
      ],
      "text/plain": [
       "         asin                                      summaryReview   overall\n",
       "0  B0000530ED  ['Great Color', 'This Is *Deep-Burgundy-Plum* ...  4.009709\n",
       "1  B0000632EN  ['Nice small size', 'This product is really ni...  3.802721\n",
       "2  B0000CC64W  ['Love it', 'Light', 'A skin must-have', 'Noti...  4.314685\n",
       "3  B000142C1A  ['Beautiful!', 'Pretty - more orange in person...  4.482456\n",
       "4  B000142FVW  ['my perfect \"Every-day\" soft neutral', \"Looks...  4.552980"
      ]
     },
     "execution_count": 110,
     "metadata": {},
     "output_type": "execute_result"
    }
   ],
   "source": [
    "#Getting Product Id , SummaryReview and Overall review \n",
    "df3 =pd.read_csv(\"ProductReviewSummary.csv\")\n",
    "df3 = pd.merge(df3, dfProductReview, on=\"asin\", how='inner')\n",
    "df3 = df3[['asin','summaryReview','overall']]\n",
    "df3.head()"
   ]
  },
  {
   "cell_type": "markdown",
   "metadata": {},
   "source": [
    "### Text Cleaning - Summary column\n",
    "For text formating, we will use the Regex Functions. RegEx, or Regular Expression, is a sequence of characters that forms a search pattern. RegEx can be used to check if a string contains the specified search pattern. Python has a built-in package called re, which can be used to work with Regular Expressions. The sub() function replaces the matches with the text of your choice.We have also apply the strip() function which is used to remove all the leading and trailing spaces from a string. "
   ]
  },
  {
   "cell_type": "code",
   "execution_count": 111,
   "metadata": {},
   "outputs": [],
   "source": [
    "#function for tokenizing summary\n",
    "regEx = re.compile('[^a-z]+')\n",
    "def cleanReviews(reviewText):\n",
    "    reviewText = reviewText.lower()\n",
    "    reviewText = regEx.sub(' ', reviewText).strip()\n",
    "    return reviewText"
   ]
  },
  {
   "cell_type": "code",
   "execution_count": 112,
   "metadata": {},
   "outputs": [],
   "source": [
    "#reset index and drop duplicate rows\n",
    "df3[\"summaryClean\"] = df3[\"summaryReview\"].apply(cleanReviews)\n",
    "df3 = df3.drop_duplicates(['overall'], keep='last')\n",
    "df3 = df3.reset_index()"
   ]
  },
  {
   "cell_type": "markdown",
   "metadata": {},
   "source": [
    "First, we need to transform the dataframe of ratings into a proper format that can be consumed by a KNN model. We want the data to be in an array.\n",
    "##### CountVectorizer:\n",
    "The CountVectorizer provides a simple way to both tokenize a collection of text documents and build a vocabulary of known words, but also to encode new documents using that vocabulary. An encoded vector is returned with a length of the entire vocabulary and an integer count for the number of times each word appeared in the document. Stop words are words like “and”, “the”, “him”, which are presumed to be uninformative in representing the content of a text, and which may be removed to avoid them being construed as signal for prediction. Sometimes, however, similar words are useful for prediction, such as in classifying writing style or personality."
   ]
  },
  {
   "cell_type": "code",
   "execution_count": 147,
   "metadata": {},
   "outputs": [],
   "source": [
    "#transforming applying CountVectorizer OnCleaned summary data \n",
    "reviews = df3[\"summaryClean\"] \n",
    "countVector = CountVectorizer(max_features = 300, stop_words='english') \n",
    "transformedReviews = countVector.fit_transform(reviews) \n",
    "\n",
    "dfReviews = DataFrame(transformedReviews.A, columns=countVector.get_feature_names())\n",
    "dfReviews = dfReviews.astype(int)\n"
   ]
  },
  {
   "cell_type": "code",
   "execution_count": 114,
   "metadata": {},
   "outputs": [],
   "source": [
    "#save \n",
    "dfReviews.to_csv(\"dfReviews.csv\")"
   ]
  },
  {
   "cell_type": "code",
   "execution_count": 115,
   "metadata": {},
   "outputs": [],
   "source": [
    "# First let's create a dataset called X\n",
    "X = np.array(dfReviews)\n",
    " # create train and test\n",
    "tpercent = 0.9\n",
    "tsize = int(np.floor(tpercent * len(dfReviews)))\n",
    "dfReviews_train = X[:tsize]\n",
    "dfReviews_test = X[tsize:]\n",
    "#len of train and test\n",
    "lentrain = len(dfReviews_train)\n",
    "lentest = len(dfReviews_test)"
   ]
  },
  {
   "cell_type": "code",
   "execution_count": 116,
   "metadata": {},
   "outputs": [
    {
     "name": "stdout",
     "output_type": "stream",
     "text": [
      "154\n",
      "18\n"
     ]
    }
   ],
   "source": [
    "# KNN classifier to find similar products\n",
    "print(lentrain)\n",
    "print(lentest)"
   ]
  },
  {
   "cell_type": "markdown",
   "metadata": {},
   "source": [
    "### KNN-\n",
    "To implement an item based collaborative filtering, KNN is a perfect go-to model and also a very good baseline for recommender system development. We use unsupervised algorithms with sklearn.neighbors\n",
    "\n",
    "The ball tree nearest-neighbor algorithm examines nodes in depth-first order, starting at the root. During the search, the algorithm maintains a max-first priority queue (often implemented with a heap), denoted Q here, of the k nearest points encountered so far. At each node B, it may perform one of three operations, before finally returning an updated version of the priority queue:\n",
    "\n",
    "1.If the distance from the test point t to the current node B is greater than the furthest point in Q, ignore B and return Q.\n",
    "\n",
    "2.If B is a leaf node, scan through every point enumerated in B and update the nearest-neighbor queue appropriately. Return the updated queue.\n",
    "\n",
    "3.If B is an internal node, call the algorithm recursively on B's two children, searching the child whose center is closer to t first. Return the queue after each of these calls has updated it in turn."
   ]
  },
  {
   "cell_type": "code",
   "execution_count": 117,
   "metadata": {},
   "outputs": [],
   "source": [
    "# Applying the nearest neighbour Algorithm\n",
    "neighbor = NearestNeighbors(n_neighbors=3, algorithm='ball_tree').fit(dfReviews_train)\n",
    "\n",
    "# Let's find the k-neighbors of each point in object X. To do that we call the kneighbors() function on object X.\n",
    "distances, indices = neighbor.kneighbors(dfReviews_train)"
   ]
  },
  {
   "cell_type": "code",
   "execution_count": 148,
   "metadata": {},
   "outputs": [
    {
     "name": "stdout",
     "output_type": "stream",
     "text": [
      "Based on product reviews, for  B00AHF1GK6  average rating is  4.181286549707602\n",
      "The first similar product is  B007BJ3KQ4  average rating is  4.3700787401574805\n",
      "The second similar product is  B001RMP7M6  average rating is  4.655172413793103\n",
      "-----------------------------------------------------------\n",
      "Based on product reviews, for  B00AHF1GTM  average rating is  4.336633663366337\n",
      "The first similar product is  B0090UJFYI  average rating is  4.245454545454545\n",
      "The second similar product is  B0030HKJ8I  average rating is  4.324137931034483\n",
      "-----------------------------------------------------------\n",
      "Based on product reviews, for  B00AO379NE  average rating is  4.401869158878505\n",
      "The first similar product is  B004LUZ956  average rating is  4.024390243902439\n",
      "The second similar product is  B005XIDZHO  average rating is  3.4554455445544554\n",
      "-----------------------------------------------------------\n",
      "Based on product reviews, for  B00AO4E9E0  average rating is  4.388349514563107\n",
      "The first similar product is  B007RTR89S  average rating is  3.881188118811881\n",
      "The second similar product is  B00A0IWRT4  average rating is  4.311320754716981\n",
      "-----------------------------------------------------------\n",
      "Based on product reviews, for  B00AO4E9MC  average rating is  4.339130434782609\n",
      "The first similar product is  B007RTR8T8  average rating is  4.107843137254902\n",
      "The second similar product is  B00AE078YM  average rating is  3.78\n",
      "-----------------------------------------------------------\n",
      "Based on product reviews, for  B00AO4EBOI  average rating is  4.115384615384615\n",
      "The first similar product is  B00AE07H0M  average rating is  3.875\n",
      "The second similar product is  B00AE07FQI  average rating is  3.8316831683168315\n",
      "-----------------------------------------------------------\n",
      "Based on product reviews, for  B00AO4EKSU  average rating is  4.095652173913043\n",
      "The first similar product is  B006RFZ66K  average rating is  4.16\n",
      "The second similar product is  B000PLUZL8  average rating is  4.117117117117117\n",
      "-----------------------------------------------------------\n",
      "Based on product reviews, for  B00AO4EL34  average rating is  4.1909090909090905\n",
      "The first similar product is  B005TI7LD2  average rating is  3.823529411764706\n",
      "The second similar product is  B005TI7LHS  average rating is  4.139130434782609\n",
      "-----------------------------------------------------------\n",
      "Based on product reviews, for  B00AO4EMKQ  average rating is  4.285714285714286\n",
      "The first similar product is  B005TI7LHS  average rating is  4.139130434782609\n",
      "The second similar product is  B005TI7LD2  average rating is  3.823529411764706\n",
      "-----------------------------------------------------------\n",
      "Based on product reviews, for  B00AWLB9G6  average rating is  4.39622641509434\n",
      "The first similar product is  B00AE078YM  average rating is  3.78\n",
      "The second similar product is  B00AE07H0M  average rating is  3.875\n",
      "-----------------------------------------------------------\n",
      "Based on product reviews, for  B00AWLB9I4  average rating is  4.207920792079208\n",
      "The first similar product is  B00AE078YM  average rating is  3.78\n",
      "The second similar product is  B007RTR8T8  average rating is  4.107843137254902\n",
      "-----------------------------------------------------------\n",
      "Based on product reviews, for  B00C7DYBX0  average rating is  4.098039215686274\n",
      "The first similar product is  B0090UJFYI  average rating is  4.245454545454545\n",
      "The second similar product is  B004LUZ956  average rating is  4.024390243902439\n",
      "-----------------------------------------------------------\n",
      "Based on product reviews, for  B00C8YCFU4  average rating is  4.66412213740458\n",
      "The first similar product is  B000F63TW0  average rating is  4.338461538461538\n",
      "The second similar product is  B0089JVDPK  average rating is  4.3931623931623935\n",
      "-----------------------------------------------------------\n",
      "Based on product reviews, for  B00G5WO2VK  average rating is  4.756521739130434\n",
      "The first similar product is  B004Z209HS  average rating is  4.39\n",
      "The second similar product is  B007Q0WW0S  average rating is  4.568965517241379\n",
      "-----------------------------------------------------------\n",
      "Based on product reviews, for  B00GFBWWWC  average rating is  4.693548387096774\n",
      "The first similar product is  B0000CC64W  average rating is  4.314685314685315\n",
      "The second similar product is  B003MJ7Z0O  average rating is  4.0606060606060606\n",
      "-----------------------------------------------------------\n",
      "Based on product reviews, for  B00H93NJLS  average rating is  4.792857142857143\n",
      "The first similar product is  B004Z209HS  average rating is  4.39\n",
      "The second similar product is  B007Q0WW0S  average rating is  4.568965517241379\n",
      "-----------------------------------------------------------\n",
      "Based on product reviews, for  B00HJD8NLY  average rating is  4.885135135135135\n",
      "The first similar product is  B0000CC64W  average rating is  4.314685314685315\n",
      "The second similar product is  B003MJ7Z0O  average rating is  4.0606060606060606\n",
      "-----------------------------------------------------------\n",
      "Based on product reviews, for  B00I6CRX04  average rating is  4.221476510067114\n",
      "The first similar product is  B00604MSSC  average rating is  4.161904761904762\n",
      "The second similar product is  B001ECQ4JE  average rating is  4.519607843137255\n",
      "-----------------------------------------------------------\n",
      "Based on product reviews, for  B00IBS9QC6  average rating is  4.915384615384616\n",
      "The first similar product is  B000F63TW0  average rating is  4.338461538461538\n",
      "The second similar product is  B003MJ7Z0O  average rating is  4.0606060606060606\n",
      "-----------------------------------------------------------\n",
      "Based on product reviews, for  B00IP42FBA  average rating is  4.871794871794871\n",
      "The first similar product is  B004Z209HS  average rating is  4.39\n",
      "The second similar product is  B0013TM9UQ  average rating is  4.471074380165289\n",
      "-----------------------------------------------------------\n",
      "Based on product reviews, for  B00JJVG6HC  average rating is  4.809210526315789\n",
      "The first similar product is  B007RTR89S  average rating is  3.881188118811881\n",
      "The second similar product is  B00A0IWRT4  average rating is  4.311320754716981\n",
      "-----------------------------------------------------------\n",
      "Based on product reviews, for  B00KAL5JAU  average rating is  4.7611940298507465\n",
      "The first similar product is  B007RTR8T8  average rating is  4.107843137254902\n",
      "The second similar product is  B00AE078YM  average rating is  3.78\n",
      "-----------------------------------------------------------\n",
      "Based on product reviews, for  B00KCFAZTE  average rating is  4.7592592592592595\n",
      "The first similar product is  B009LOJ5MA  average rating is  3.4921875\n",
      "The second similar product is  B000PLUZL8  average rating is  4.117117117117117\n",
      "-----------------------------------------------------------\n",
      "Based on product reviews, for  B00KHGIK54  average rating is  4.8320610687022905\n",
      "The first similar product is  B0000CC64W  average rating is  4.314685314685315\n",
      "The second similar product is  B003MJ7Z0O  average rating is  4.0606060606060606\n",
      "-----------------------------------------------------------\n",
      "Based on product reviews, for  B00KHH2VOY  average rating is  4.877049180327869\n",
      "The first similar product is  B002TSA90M  average rating is  4.452173913043478\n",
      "The second similar product is  B00AE07IEM  average rating is  4.275229357798165\n",
      "-----------------------------------------------------------\n",
      "Based on product reviews, for  B00KQBR9FM  average rating is  4.745098039215686\n",
      "The first similar product is  B0030HKJ8I  average rating is  4.324137931034483\n",
      "The second similar product is  B00644YNCM  average rating is  4.401960784313726\n",
      "-----------------------------------------------------------\n"
     ]
    }
   ],
   "source": [
    "#find most related products\n",
    "for i in range(lentest):\n",
    "    \"\"\"\" \n",
    "    This will find the most related two product based on the Average overll rating of the product\n",
    "    \"\"\"\n",
    "    a = neighbor.kneighbors([dfReviews_test[i]])\n",
    "    related_product_list = a[1]\n",
    "\n",
    "    first_related_product = [item[0] for item in related_product_list]\n",
    "    first_related_product = str(first_related_product).strip('[]')\n",
    "    first_related_product = int(first_related_product)\n",
    "    second_related_product = [item[1] for item in related_product_list]\n",
    "    second_related_product = str(second_related_product).strip('[]')\n",
    "    second_related_product = int(second_related_product)\n",
    "    \n",
    "    print (\"Based on product reviews, for \", df3[\"asin\"][lentrain + i] ,\" average rating is \",df3[\"overall\"][lentrain + i])\n",
    "    print (\"The first similar product is \", df3[\"asin\"][first_related_product] ,\" average rating is \",df3[\"overall\"][first_related_product])\n",
    "    print (\"The second similar product is \", df3[\"asin\"][second_related_product] ,\" average rating is \",df3[\"overall\"][second_related_product])\n",
    "    print (\"-----------------------------------------------------------\")"
   ]
  },
  {
   "cell_type": "markdown",
   "metadata": {},
   "source": [
    "Here, we got two Product reccomended based on the first Product review. \n",
    "\n",
    "Let's Predict the review score "
   ]
  },
  {
   "cell_type": "markdown",
   "metadata": {},
   "source": [
    "## Predicting Review Score and getting the accuracy for the model k=3"
   ]
  },
  {
   "cell_type": "code",
   "execution_count": 119,
   "metadata": {},
   "outputs": [
    {
     "name": "stdout",
     "output_type": "stream",
     "text": [
      "              precision    recall  f1-score   support\n",
      "\n",
      "           3       0.00      0.00      0.00         0\n",
      "           4       1.00      0.94      0.97        18\n",
      "\n",
      "   micro avg       0.94      0.94      0.94        18\n",
      "   macro avg       0.50      0.47      0.49        18\n",
      "weighted avg       1.00      0.94      0.97        18\n",
      "\n"
     ]
    },
    {
     "name": "stderr",
     "output_type": "stream",
     "text": [
      "C:\\Users\\JAYESH\\Anaconda3\\lib\\site-packages\\sklearn\\metrics\\classification.py:1145: UndefinedMetricWarning: Recall and F-score are ill-defined and being set to 0.0 in labels with no true samples.\n",
      "  'recall', 'true', average, warn_for)\n"
     ]
    }
   ],
   "source": [
    "df5_train_target = df3[\"overall\"][:lentrain]\n",
    "df5_test_target = df3[\"overall\"][lentrain:lentrain+lentest]\n",
    "df5_train_target = df5_train_target.astype(int)\n",
    "df5_test_target = df5_test_target.astype(int)\n",
    "\n",
    "n_neighbors = 3\n",
    "knnclf = neighbors.KNeighborsClassifier(n_neighbors, weights='distance')\n",
    "knnclf.fit(dfReviews_train, df5_train_target)\n",
    "knnpreds_test = knnclf.predict(dfReviews_test)\n",
    "\n",
    "print(classification_report(df5_test_target, knnpreds_test))"
   ]
  },
  {
   "cell_type": "markdown",
   "metadata": {},
   "source": [
    "### Accuracy of the model"
   ]
  },
  {
   "cell_type": "code",
   "execution_count": 120,
   "metadata": {},
   "outputs": [
    {
     "name": "stdout",
     "output_type": "stream",
     "text": [
      "0.9444444444444444\n"
     ]
    }
   ],
   "source": [
    "print (accuracy_score(df5_test_target, knnpreds_test))"
   ]
  },
  {
   "cell_type": "code",
   "execution_count": 121,
   "metadata": {},
   "outputs": [
    {
     "name": "stdout",
     "output_type": "stream",
     "text": [
      "0.05555555555555555\n"
     ]
    }
   ],
   "source": [
    "print(mean_squared_error(df5_test_target, knnpreds_test))"
   ]
  },
  {
   "cell_type": "markdown",
   "metadata": {},
   "source": [
    "We got the accuracy of model for the K=3. Let's try with the K=5 for same data"
   ]
  },
  {
   "cell_type": "markdown",
   "metadata": {},
   "source": [
    "### Predicting Review Score with k = 5"
   ]
  },
  {
   "cell_type": "code",
   "execution_count": 136,
   "metadata": {},
   "outputs": [
    {
     "name": "stdout",
     "output_type": "stream",
     "text": [
      "              precision    recall  f1-score   support\n",
      "\n",
      "           3       0.00      0.00      0.00         0\n",
      "           4       1.00      0.81      0.89        26\n",
      "\n",
      "   micro avg       0.81      0.81      0.81        26\n",
      "   macro avg       0.50      0.40      0.45        26\n",
      "weighted avg       1.00      0.81      0.89        26\n",
      "\n"
     ]
    },
    {
     "name": "stderr",
     "output_type": "stream",
     "text": [
      "C:\\Users\\JAYESH\\Anaconda3\\lib\\site-packages\\sklearn\\metrics\\classification.py:1145: UndefinedMetricWarning: Recall and F-score are ill-defined and being set to 0.0 in labels with no true samples.\n",
      "  'recall', 'true', average, warn_for)\n"
     ]
    }
   ],
   "source": [
    "df5_train_target = df3[\"overall\"][:lentrain]\n",
    "df5_test_target = df3[\"overall\"][lentrain:lentrain+lentest]\n",
    "df5_train_target = df5_train_target.astype(int)\n",
    "df5_test_target = df5_test_target.astype(int)\n",
    "\n",
    "n_neighbors = 5\n",
    "knnclf = neighbors.KNeighborsClassifier(n_neighbors, weights='distance')\n",
    "knnclf.fit(dfReviews_train, df5_train_target)\n",
    "knnpreds_test = knnclf.predict(dfReviews_test)\n",
    "#print (knnpreds_test)\n",
    "\n",
    "print(classification_report(df5_test_target, knnpreds_test))"
   ]
  },
  {
   "cell_type": "code",
   "execution_count": 137,
   "metadata": {},
   "outputs": [
    {
     "name": "stdout",
     "output_type": "stream",
     "text": [
      "0.8076923076923077\n"
     ]
    }
   ],
   "source": [
    "print (accuracy_score(df5_test_target, knnpreds_test))"
   ]
  },
  {
   "cell_type": "code",
   "execution_count": 138,
   "metadata": {},
   "outputs": [
    {
     "name": "stdout",
     "output_type": "stream",
     "text": [
      "0.19230769230769232\n"
     ]
    }
   ],
   "source": [
    "print(mean_squared_error(df5_test_target, knnpreds_test))"
   ]
  },
  {
   "cell_type": "markdown",
   "metadata": {},
   "source": [
    "### Predicting reviews with 85, 15 train, test split and k = 5"
   ]
  },
  {
   "cell_type": "code",
   "execution_count": 149,
   "metadata": {},
   "outputs": [],
   "source": [
    "# First let's create a dataset called X\n",
    "X = np.array(dfReviews)\n",
    " # create train and test\n",
    "tpercent = 0.85\n",
    "tsize = int(np.floor(tpercent * len(dfReviews)))\n",
    "dfReviews_train = X[:tsize]\n",
    "dfReviews_test = X[tsize:]\n",
    "#len of train and test\n",
    "lentrain = len(dfReviews_train)\n",
    "lentest = len(dfReviews_test)"
   ]
  },
  {
   "cell_type": "code",
   "execution_count": 150,
   "metadata": {},
   "outputs": [],
   "source": [
    "# Next we will instantiate a nearest neighbor object, and call it nbrs. Then we will fit it to dataset X.\n",
    "neighbor = NearestNeighbors(n_neighbors=5, algorithm='ball_tree').fit(dfReviews_train)\n",
    "\n",
    "# Let's find the k-neighbors of each point in object X. To do that we call the kneighbors() function on object X.\n",
    "distances, indices = neighbor.kneighbors(dfReviews_train)"
   ]
  },
  {
   "cell_type": "code",
   "execution_count": 151,
   "metadata": {},
   "outputs": [
    {
     "name": "stdout",
     "output_type": "stream",
     "text": [
      "Based on product reviews, for  B00AHF1GK6  average rating is  4.181286549707602\n",
      "The first similar product is  B007BJ3KQ4  average rating is  4.3700787401574805\n",
      "The second similar product is  B001RMP7M6  average rating is  4.655172413793103\n",
      "-----------------------------------------------------------\n",
      "Based on product reviews, for  B00AHF1GTM  average rating is  4.336633663366337\n",
      "The first similar product is  B0090UJFYI  average rating is  4.245454545454545\n",
      "The second similar product is  B0030HKJ8I  average rating is  4.324137931034483\n",
      "-----------------------------------------------------------\n",
      "Based on product reviews, for  B00AO379NE  average rating is  4.401869158878505\n",
      "The first similar product is  B004LUZ956  average rating is  4.024390243902439\n",
      "The second similar product is  B005XIDZHO  average rating is  3.4554455445544554\n",
      "-----------------------------------------------------------\n",
      "Based on product reviews, for  B00AO4E9E0  average rating is  4.388349514563107\n",
      "The first similar product is  B007RTR89S  average rating is  3.881188118811881\n",
      "The second similar product is  B00A0IWRT4  average rating is  4.311320754716981\n",
      "-----------------------------------------------------------\n",
      "Based on product reviews, for  B00AO4E9MC  average rating is  4.339130434782609\n",
      "The first similar product is  B007RTR8T8  average rating is  4.107843137254902\n",
      "The second similar product is  B00AE078YM  average rating is  3.78\n",
      "-----------------------------------------------------------\n",
      "Based on product reviews, for  B00AO4EBOI  average rating is  4.115384615384615\n",
      "The first similar product is  B00AE07H0M  average rating is  3.875\n",
      "The second similar product is  B00AE07FQI  average rating is  3.8316831683168315\n",
      "-----------------------------------------------------------\n",
      "Based on product reviews, for  B00AO4EKSU  average rating is  4.095652173913043\n",
      "The first similar product is  B006RFZ66K  average rating is  4.16\n",
      "The second similar product is  B000PLUZL8  average rating is  4.117117117117117\n",
      "-----------------------------------------------------------\n",
      "Based on product reviews, for  B00AO4EL34  average rating is  4.1909090909090905\n",
      "The first similar product is  B005TI7LD2  average rating is  3.823529411764706\n",
      "The second similar product is  B005TI7LHS  average rating is  4.139130434782609\n",
      "-----------------------------------------------------------\n",
      "Based on product reviews, for  B00AO4EMKQ  average rating is  4.285714285714286\n",
      "The first similar product is  B005TI7LHS  average rating is  4.139130434782609\n",
      "The second similar product is  B005TI7LD2  average rating is  3.823529411764706\n",
      "-----------------------------------------------------------\n",
      "Based on product reviews, for  B00AWLB9G6  average rating is  4.39622641509434\n",
      "The first similar product is  B00AE078YM  average rating is  3.78\n",
      "The second similar product is  B00AE07H0M  average rating is  3.875\n",
      "-----------------------------------------------------------\n",
      "Based on product reviews, for  B00AWLB9I4  average rating is  4.207920792079208\n",
      "The first similar product is  B00AE078YM  average rating is  3.78\n",
      "The second similar product is  B007RTR8T8  average rating is  4.107843137254902\n",
      "-----------------------------------------------------------\n",
      "Based on product reviews, for  B00C7DYBX0  average rating is  4.098039215686274\n",
      "The first similar product is  B0090UJFYI  average rating is  4.245454545454545\n",
      "The second similar product is  B004LUZ956  average rating is  4.024390243902439\n",
      "-----------------------------------------------------------\n",
      "Based on product reviews, for  B00C8YCFU4  average rating is  4.66412213740458\n",
      "The first similar product is  B000F63TW0  average rating is  4.338461538461538\n",
      "The second similar product is  B0089JVDPK  average rating is  4.3931623931623935\n",
      "-----------------------------------------------------------\n",
      "Based on product reviews, for  B00G5WO2VK  average rating is  4.756521739130434\n",
      "The first similar product is  B004Z209HS  average rating is  4.39\n",
      "The second similar product is  B007Q0WW0S  average rating is  4.568965517241379\n",
      "-----------------------------------------------------------\n",
      "Based on product reviews, for  B00GFBWWWC  average rating is  4.693548387096774\n",
      "The first similar product is  B0000CC64W  average rating is  4.314685314685315\n",
      "The second similar product is  B003MJ7Z0O  average rating is  4.0606060606060606\n",
      "-----------------------------------------------------------\n",
      "Based on product reviews, for  B00H93NJLS  average rating is  4.792857142857143\n",
      "The first similar product is  B004Z209HS  average rating is  4.39\n",
      "The second similar product is  B007Q0WW0S  average rating is  4.568965517241379\n",
      "-----------------------------------------------------------\n",
      "Based on product reviews, for  B00HJD8NLY  average rating is  4.885135135135135\n",
      "The first similar product is  B0000CC64W  average rating is  4.314685314685315\n",
      "The second similar product is  B003MJ7Z0O  average rating is  4.0606060606060606\n",
      "-----------------------------------------------------------\n",
      "Based on product reviews, for  B00I6CRX04  average rating is  4.221476510067114\n",
      "The first similar product is  B00604MSSC  average rating is  4.161904761904762\n",
      "The second similar product is  B001ECQ4JE  average rating is  4.519607843137255\n",
      "-----------------------------------------------------------\n",
      "Based on product reviews, for  B00IBS9QC6  average rating is  4.915384615384616\n",
      "The first similar product is  B000F63TW0  average rating is  4.338461538461538\n",
      "The second similar product is  B003MJ7Z0O  average rating is  4.0606060606060606\n",
      "-----------------------------------------------------------\n",
      "Based on product reviews, for  B00IP42FBA  average rating is  4.871794871794871\n",
      "The first similar product is  B004Z209HS  average rating is  4.39\n",
      "The second similar product is  B0013TM9UQ  average rating is  4.471074380165289\n",
      "-----------------------------------------------------------\n",
      "Based on product reviews, for  B00JJVG6HC  average rating is  4.809210526315789\n",
      "The first similar product is  B007RTR89S  average rating is  3.881188118811881\n",
      "The second similar product is  B00A0IWRT4  average rating is  4.311320754716981\n",
      "-----------------------------------------------------------\n",
      "Based on product reviews, for  B00KAL5JAU  average rating is  4.7611940298507465\n",
      "The first similar product is  B007RTR8T8  average rating is  4.107843137254902\n",
      "The second similar product is  B00AE078YM  average rating is  3.78\n",
      "-----------------------------------------------------------\n",
      "Based on product reviews, for  B00KCFAZTE  average rating is  4.7592592592592595\n",
      "The first similar product is  B009LOJ5MA  average rating is  3.4921875\n",
      "The second similar product is  B000PLUZL8  average rating is  4.117117117117117\n",
      "-----------------------------------------------------------\n",
      "Based on product reviews, for  B00KHGIK54  average rating is  4.8320610687022905\n",
      "The first similar product is  B0000CC64W  average rating is  4.314685314685315\n",
      "The second similar product is  B003MJ7Z0O  average rating is  4.0606060606060606\n",
      "-----------------------------------------------------------\n",
      "Based on product reviews, for  B00KHH2VOY  average rating is  4.877049180327869\n",
      "The first similar product is  B002TSA90M  average rating is  4.452173913043478\n",
      "The second similar product is  B00AE07IEM  average rating is  4.275229357798165\n",
      "-----------------------------------------------------------\n",
      "Based on product reviews, for  B00KQBR9FM  average rating is  4.745098039215686\n",
      "The first similar product is  B0030HKJ8I  average rating is  4.324137931034483\n",
      "The second similar product is  B00644YNCM  average rating is  4.401960784313726\n",
      "-----------------------------------------------------------\n"
     ]
    }
   ],
   "source": [
    "#find most related products\n",
    "for i in range(lentest):\n",
    "    a = neighbor.kneighbors([dfReviews_test[i]])\n",
    "    related_product_list = a[1]\n",
    "\n",
    "    first_related_product = [item[0] for item in related_product_list]\n",
    "    first_related_product = str(first_related_product).strip('[]')\n",
    "    first_related_product = int(first_related_product)\n",
    "    second_related_product = [item[1] for item in related_product_list]\n",
    "    second_related_product = str(second_related_product).strip('[]')\n",
    "    second_related_product = int(second_related_product)\n",
    "    \n",
    "    print (\"Based on product reviews, for \", df3[\"asin\"][lentrain + i] ,\" average rating is \",df3[\"overall\"][lentrain + i])\n",
    "    print (\"The first similar product is \", df3[\"asin\"][first_related_product] ,\" average rating is \",df3[\"overall\"][first_related_product])\n",
    "    print (\"The second similar product is \", df3[\"asin\"][second_related_product] ,\" average rating is \",df3[\"overall\"][second_related_product])\n",
    "    print (\"-----------------------------------------------------------\")"
   ]
  },
  {
   "cell_type": "code",
   "execution_count": 152,
   "metadata": {},
   "outputs": [
    {
     "name": "stdout",
     "output_type": "stream",
     "text": [
      "              precision    recall  f1-score   support\n",
      "\n",
      "           3       0.00      0.00      0.00         0\n",
      "           4       1.00      0.81      0.89        26\n",
      "\n",
      "   micro avg       0.81      0.81      0.81        26\n",
      "   macro avg       0.50      0.40      0.45        26\n",
      "weighted avg       1.00      0.81      0.89        26\n",
      "\n"
     ]
    },
    {
     "name": "stderr",
     "output_type": "stream",
     "text": [
      "C:\\Users\\JAYESH\\Anaconda3\\lib\\site-packages\\sklearn\\metrics\\classification.py:1145: UndefinedMetricWarning: Recall and F-score are ill-defined and being set to 0.0 in labels with no true samples.\n",
      "  'recall', 'true', average, warn_for)\n"
     ]
    }
   ],
   "source": [
    "df5_train_target = df3[\"overall\"][:lentrain]\n",
    "df5_test_target = df3[\"overall\"][lentrain:lentrain+lentest]\n",
    "df5_train_target = df5_train_target.astype(int)\n",
    "df5_test_target = df5_test_target.astype(int)\n",
    "\n",
    "n_neighbors = 5\n",
    "knnclf = neighbors.KNeighborsClassifier(n_neighbors, weights='distance')\n",
    "knnclf.fit(dfReviews_train, df5_train_target)\n",
    "knnpreds_test = knnclf.predict(dfReviews_test)\n",
    "#print (knnpreds_test)\n",
    "\n",
    "print(classification_report(df5_test_target, knnpreds_test))"
   ]
  },
  {
   "cell_type": "code",
   "execution_count": 153,
   "metadata": {},
   "outputs": [
    {
     "name": "stdout",
     "output_type": "stream",
     "text": [
      "0.8076923076923077\n"
     ]
    }
   ],
   "source": [
    "print (accuracy_score(df5_test_target, knnpreds_test))"
   ]
  },
  {
   "cell_type": "code",
   "execution_count": 154,
   "metadata": {},
   "outputs": [
    {
     "name": "stdout",
     "output_type": "stream",
     "text": [
      "0.19230769230769232\n"
     ]
    }
   ],
   "source": [
    "print(mean_squared_error(df5_test_target, knnpreds_test))"
   ]
  },
  {
   "cell_type": "markdown",
   "metadata": {},
   "source": [
    "We got the the best accuracy of Model with k=3."
   ]
  },
  {
   "cell_type": "markdown",
   "metadata": {},
   "source": [
    "## Conclusion:\n",
    "We used the Item based approach in this project for our product recommender system. The reason why we preferred item based approach over user based approach is because User-based approach is often harder to scale because of the dynamic nature of users, whereas items usually don’t change much, and item based approach often can be computed offline and served without constantly re-training.\n",
    "\n",
    "We predicted the review score of the product by taking n_neighbors = 3 and test train split of 90-10. \n",
    "The accuracy of the model was 0.9444444444444444 and the MSE was 0.05555555555555555.\n",
    "\n",
    "Then, we also predicted the review score of the product by taking n_neighbors = 5 and test train split of 90-10 . \n",
    "The accuracy of the model was 0.8076 and the MSE was 0.19.\n",
    "\n",
    "We also predicted the review score of the product by taking n_neighbors = 5 and test train split of 85-15. The accuracy of the model was 0.8076923076923077 and the MSE was 0.19230769230769232. Changing the split did not make any difference in the accuracy."
   ]
  }
 ],
 "metadata": {
  "kernelspec": {
   "display_name": "Python 3",
   "language": "python",
   "name": "python3"
  },
  "language_info": {
   "codemirror_mode": {
    "name": "ipython",
    "version": 3
   },
   "file_extension": ".py",
   "mimetype": "text/x-python",
   "name": "python",
   "nbconvert_exporter": "python",
   "pygments_lexer": "ipython3",
   "version": "3.7.1"
  }
 },
 "nbformat": 4,
 "nbformat_minor": 2
}
